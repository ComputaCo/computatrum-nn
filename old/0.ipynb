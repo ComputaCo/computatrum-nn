{
 "cells": [
  {
   "cell_type": "code",
   "execution_count": 4,
   "metadata": {},
   "outputs": [],
   "source": [
    "import pyautogui\n",
    "import cv2\n",
    "import mouse\n",
    "import keyboard\n",
    "import threading"
   ]
  },
  {
   "cell_type": "code",
   "execution_count": 5,
   "metadata": {},
   "outputs": [
    {
     "ename": "ImportError",
     "evalue": "You must be root to use this library on linux.",
     "output_type": "error",
     "traceback": [
      "\u001b[0;31m---------------------------------------------------------------------------\u001b[0m",
      "\u001b[0;31mImportError\u001b[0m                               Traceback (most recent call last)",
      "Cell \u001b[0;32mIn[5], line 3\u001b[0m\n\u001b[1;32m      1\u001b[0m mouse_events \u001b[39m=\u001b[39m []\n\u001b[0;32m----> 3\u001b[0m mouse\u001b[39m.\u001b[39;49mhook(mouse_events\u001b[39m.\u001b[39;49mappend)\n\u001b[1;32m      4\u001b[0m keyboard\u001b[39m.\u001b[39mstart_recording()  \u001b[39m# Starting the recording\u001b[39;00m\n\u001b[1;32m      6\u001b[0m keyboard\u001b[39m.\u001b[39mwait(\u001b[39m\"\u001b[39m\u001b[39ma\u001b[39m\u001b[39m\"\u001b[39m)\n",
      "File \u001b[0;32m~/.pyenv/versions/3.10/envs/lab/lib/python3.10/site-packages/mouse/__init__.py:212\u001b[0m, in \u001b[0;36mhook\u001b[0;34m(callback)\u001b[0m\n\u001b[1;32m    203\u001b[0m \u001b[39mdef\u001b[39;00m \u001b[39mhook\u001b[39m(callback):\n\u001b[1;32m    204\u001b[0m \u001b[39m    \u001b[39m\u001b[39m\"\"\"\u001b[39;00m\n\u001b[1;32m    205\u001b[0m \u001b[39m    Installs a global listener on all available mouses, invoking `callback`\u001b[39;00m\n\u001b[1;32m    206\u001b[0m \u001b[39m    each time it is moved, a key status changes or the wheel is spun. A mouse\u001b[39;00m\n\u001b[0;32m   (...)\u001b[0m\n\u001b[1;32m    210\u001b[0m \u001b[39m    Returns the given callback for easier development.\u001b[39;00m\n\u001b[1;32m    211\u001b[0m \u001b[39m    \"\"\"\u001b[39;00m\n\u001b[0;32m--> 212\u001b[0m     _listener\u001b[39m.\u001b[39;49madd_handler(callback)\n\u001b[1;32m    213\u001b[0m     \u001b[39mreturn\u001b[39;00m callback\n",
      "File \u001b[0;32m~/.pyenv/versions/3.10/envs/lab/lib/python3.10/site-packages/mouse/_generic.py:67\u001b[0m, in \u001b[0;36mGenericListener.add_handler\u001b[0;34m(self, handler)\u001b[0m\n\u001b[1;32m     62\u001b[0m \u001b[39mdef\u001b[39;00m \u001b[39madd_handler\u001b[39m(\u001b[39mself\u001b[39m, handler):\n\u001b[1;32m     63\u001b[0m \u001b[39m    \u001b[39m\u001b[39m\"\"\"\u001b[39;00m\n\u001b[1;32m     64\u001b[0m \u001b[39m    Adds a function to receive each event captured, starting the capturing\u001b[39;00m\n\u001b[1;32m     65\u001b[0m \u001b[39m    process if necessary.\u001b[39;00m\n\u001b[1;32m     66\u001b[0m \u001b[39m    \"\"\"\u001b[39;00m\n\u001b[0;32m---> 67\u001b[0m     \u001b[39mself\u001b[39;49m\u001b[39m.\u001b[39;49mstart_if_necessary()\n\u001b[1;32m     68\u001b[0m     \u001b[39mself\u001b[39m\u001b[39m.\u001b[39mhandlers\u001b[39m.\u001b[39mappend(handler)\n",
      "File \u001b[0;32m~/.pyenv/versions/3.10/envs/lab/lib/python3.10/site-packages/mouse/_generic.py:35\u001b[0m, in \u001b[0;36mGenericListener.start_if_necessary\u001b[0;34m(self)\u001b[0m\n\u001b[1;32m     33\u001b[0m \u001b[39mtry\u001b[39;00m:\n\u001b[1;32m     34\u001b[0m     \u001b[39mif\u001b[39;00m \u001b[39mnot\u001b[39;00m \u001b[39mself\u001b[39m\u001b[39m.\u001b[39mlistening:\n\u001b[0;32m---> 35\u001b[0m         \u001b[39mself\u001b[39;49m\u001b[39m.\u001b[39;49minit()\n\u001b[1;32m     37\u001b[0m         \u001b[39mself\u001b[39m\u001b[39m.\u001b[39mlistening \u001b[39m=\u001b[39m \u001b[39mTrue\u001b[39;00m\n\u001b[1;32m     38\u001b[0m         \u001b[39mself\u001b[39m\u001b[39m.\u001b[39mlistening_thread \u001b[39m=\u001b[39m Thread(target\u001b[39m=\u001b[39m\u001b[39mself\u001b[39m\u001b[39m.\u001b[39mlisten)\n",
      "File \u001b[0;32m~/.pyenv/versions/3.10/envs/lab/lib/python3.10/site-packages/mouse/__init__.py:64\u001b[0m, in \u001b[0;36m_MouseListener.init\u001b[0;34m(self)\u001b[0m\n\u001b[1;32m     63\u001b[0m \u001b[39mdef\u001b[39;00m \u001b[39minit\u001b[39m(\u001b[39mself\u001b[39m):\n\u001b[0;32m---> 64\u001b[0m     _os_mouse\u001b[39m.\u001b[39;49minit()\n",
      "File \u001b[0;32m~/.pyenv/versions/3.10/envs/lab/lib/python3.10/site-packages/mouse/_nixmouse.py:72\u001b[0m, in \u001b[0;36mbuild_device\u001b[0;34m()\u001b[0m\n\u001b[1;32m     70\u001b[0m \u001b[39mglobal\u001b[39;00m device\n\u001b[1;32m     71\u001b[0m \u001b[39mif\u001b[39;00m device: \u001b[39mreturn\u001b[39;00m\n\u001b[0;32m---> 72\u001b[0m ensure_root()\n\u001b[1;32m     73\u001b[0m device \u001b[39m=\u001b[39m aggregate_devices(\u001b[39m'\u001b[39m\u001b[39mmouse\u001b[39m\u001b[39m'\u001b[39m)\n",
      "File \u001b[0;32m~/.pyenv/versions/3.10/envs/lab/lib/python3.10/site-packages/mouse/_nixcommon.py:165\u001b[0m, in \u001b[0;36mensure_root\u001b[0;34m()\u001b[0m\n\u001b[1;32m    163\u001b[0m \u001b[39mdef\u001b[39;00m \u001b[39mensure_root\u001b[39m():\n\u001b[1;32m    164\u001b[0m     \u001b[39mif\u001b[39;00m os\u001b[39m.\u001b[39mgeteuid() \u001b[39m!=\u001b[39m \u001b[39m0\u001b[39m:\n\u001b[0;32m--> 165\u001b[0m         \u001b[39mraise\u001b[39;00m \u001b[39mImportError\u001b[39;00m(\u001b[39m'\u001b[39m\u001b[39mYou must be root to use this library on linux.\u001b[39m\u001b[39m'\u001b[39m)\n",
      "\u001b[0;31mImportError\u001b[0m: You must be root to use this library on linux."
     ]
    }
   ],
   "source": [
    "mouse_events = []\n",
    "\n",
    "mouse.hook(mouse_events.append)\n",
    "keyboard.start_recording()  # Starting the recording\n",
    "\n",
    "keyboard.wait(\"a\")\n",
    "\n",
    "mouse.unhook(mouse_events.append)\n",
    "# Stopping the recording. Returns list of events\n",
    "keyboard_events = keyboard.stop_recording()"
   ]
  },
  {
   "cell_type": "code",
   "execution_count": 6,
   "metadata": {},
   "outputs": [
    {
     "ename": "KeyboardInterrupt",
     "evalue": "",
     "output_type": "error",
     "traceback": [
      "\u001b[0;31m---------------------------------------------------------------------------\u001b[0m",
      "\u001b[0;31mKeyboardInterrupt\u001b[0m                         Traceback (most recent call last)",
      "Cell \u001b[0;32mIn[6], line 17\u001b[0m\n\u001b[1;32m     14\u001b[0m     logging\u001b[39m.\u001b[39minfo(\u001b[39m'\u001b[39m\u001b[39mMouse scrolled at (\u001b[39m\u001b[39m{0}\u001b[39;00m\u001b[39m, \u001b[39m\u001b[39m{1}\u001b[39;00m\u001b[39m)(\u001b[39m\u001b[39m{2}\u001b[39;00m\u001b[39m, \u001b[39m\u001b[39m{3}\u001b[39;00m\u001b[39m)\u001b[39m\u001b[39m'\u001b[39m\u001b[39m.\u001b[39mformat(x, y, dx, dy))\n\u001b[1;32m     16\u001b[0m \u001b[39mwith\u001b[39;00m Listener(on_move\u001b[39m=\u001b[39mon_move, on_click\u001b[39m=\u001b[39mon_click, on_scroll\u001b[39m=\u001b[39mon_scroll) \u001b[39mas\u001b[39;00m listener:\n\u001b[0;32m---> 17\u001b[0m     listener\u001b[39m.\u001b[39;49mjoin()\n",
      "File \u001b[0;32m~/.pyenv/versions/3.10/envs/lab/lib/python3.10/site-packages/pynput/_util/__init__.py:269\u001b[0m, in \u001b[0;36mAbstractListener.join\u001b[0;34m(self, *args)\u001b[0m\n\u001b[1;32m    268\u001b[0m \u001b[39mdef\u001b[39;00m \u001b[39mjoin\u001b[39m(\u001b[39mself\u001b[39m, \u001b[39m*\u001b[39margs):\n\u001b[0;32m--> 269\u001b[0m     \u001b[39msuper\u001b[39;49m(AbstractListener, \u001b[39mself\u001b[39;49m)\u001b[39m.\u001b[39;49mjoin(\u001b[39m*\u001b[39;49margs)\n\u001b[1;32m    271\u001b[0m     \u001b[39m# Reraise any exceptions\u001b[39;00m\n\u001b[1;32m    272\u001b[0m     \u001b[39mtry\u001b[39;00m:\n",
      "File \u001b[0;32m~/.pyenv/versions/3.10.9/lib/python3.10/threading.py:1096\u001b[0m, in \u001b[0;36mThread.join\u001b[0;34m(self, timeout)\u001b[0m\n\u001b[1;32m   1093\u001b[0m     \u001b[39mraise\u001b[39;00m \u001b[39mRuntimeError\u001b[39;00m(\u001b[39m\"\u001b[39m\u001b[39mcannot join current thread\u001b[39m\u001b[39m\"\u001b[39m)\n\u001b[1;32m   1095\u001b[0m \u001b[39mif\u001b[39;00m timeout \u001b[39mis\u001b[39;00m \u001b[39mNone\u001b[39;00m:\n\u001b[0;32m-> 1096\u001b[0m     \u001b[39mself\u001b[39;49m\u001b[39m.\u001b[39;49m_wait_for_tstate_lock()\n\u001b[1;32m   1097\u001b[0m \u001b[39melse\u001b[39;00m:\n\u001b[1;32m   1098\u001b[0m     \u001b[39m# the behavior of a negative timeout isn't documented, but\u001b[39;00m\n\u001b[1;32m   1099\u001b[0m     \u001b[39m# historically .join(timeout=x) for x<0 has acted as if timeout=0\u001b[39;00m\n\u001b[1;32m   1100\u001b[0m     \u001b[39mself\u001b[39m\u001b[39m.\u001b[39m_wait_for_tstate_lock(timeout\u001b[39m=\u001b[39m\u001b[39mmax\u001b[39m(timeout, \u001b[39m0\u001b[39m))\n",
      "File \u001b[0;32m~/.pyenv/versions/3.10.9/lib/python3.10/threading.py:1116\u001b[0m, in \u001b[0;36mThread._wait_for_tstate_lock\u001b[0;34m(self, block, timeout)\u001b[0m\n\u001b[1;32m   1113\u001b[0m     \u001b[39mreturn\u001b[39;00m\n\u001b[1;32m   1115\u001b[0m \u001b[39mtry\u001b[39;00m:\n\u001b[0;32m-> 1116\u001b[0m     \u001b[39mif\u001b[39;00m lock\u001b[39m.\u001b[39;49macquire(block, timeout):\n\u001b[1;32m   1117\u001b[0m         lock\u001b[39m.\u001b[39mrelease()\n\u001b[1;32m   1118\u001b[0m         \u001b[39mself\u001b[39m\u001b[39m.\u001b[39m_stop()\n",
      "\u001b[0;31mKeyboardInterrupt\u001b[0m: "
     ]
    }
   ],
   "source": [
    "from pynput.mouse import Listener\n",
    "import logging\n",
    "\n",
    "logging.basicConfig(filename=\"mouse_log.txt\", level=logging.DEBUG, format='%(asctime)s: %(message)s')\n",
    "\n",
    "def on_move(x, y):\n",
    "    logging.info(\"Mouse moved to ({0}, {1})\".format(x, y))\n",
    "\n",
    "def on_click(x, y, button, pressed):\n",
    "    if pressed:\n",
    "        logging.info('Mouse clicked at ({0}, {1}) with {2}'.format(x, y, button))\n",
    "\n",
    "def on_scroll(x, y, dx, dy):\n",
    "    logging.info('Mouse scrolled at ({0}, {1})({2}, {3})'.format(x, y, dx, dy))\n",
    "\n",
    "with Listener(on_move=on_move, on_click=on_click, on_scroll=on_scroll) as listener:\n",
    "    listener.join()"
   ]
  }
 ],
 "metadata": {
  "kernelspec": {
   "display_name": "lab",
   "language": "python",
   "name": "python3"
  },
  "language_info": {
   "codemirror_mode": {
    "name": "ipython",
    "version": 3
   },
   "file_extension": ".py",
   "mimetype": "text/x-python",
   "name": "python",
   "nbconvert_exporter": "python",
   "pygments_lexer": "ipython3",
   "version": "3.10.9"
  },
  "orig_nbformat": 4,
  "vscode": {
   "interpreter": {
    "hash": "9857ff0ee928e395ae27f4c407ebde0b2c9783df3b7db0002249719651282c7e"
   }
  }
 },
 "nbformat": 4,
 "nbformat_minor": 2
}
