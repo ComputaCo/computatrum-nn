{
 "cells": [
  {
   "cell_type": "markdown",
   "id": "749f5790",
   "metadata": {},
   "source": [
    "<!--\n",
    "This content is kept in sync with `theory.ipynb` via `jupytext`. Run\n",
    "\n",
    "  ```bash\n",
    "  jupytext --set-formats ipynb,md --sync theory.ipynb\n",
    "  ```\n",
    "\n",
    "to link the markdown and ipynb versions of this file. Then run\n",
    "\n",
    "  ```bash\n",
    "  jupytext --sync theory.ipynb\n",
    "  ```\n",
    "\n",
    "to update either file with the other's changes.\n",
    "-->\n",
    "\n",
    "# Computatrum\n",
    "\n",
    "## Introduction\n",
    "\n",
    "Introduction\n",
    "\n",
    "Motivation\n",
    "\n",
    "Overview\n",
    "\n",
    "## Computer interaction\n",
    "\n",
    "Main idea\n",
    "\n",
    "Mathematical model\n",
    "\n",
    "Explain several categories of tasks (including sections of user manuals and YouTube videos)\n",
    "\n",
    "Common features shared by many or all tasks include:\n",
    "\n",
    "- Being able to operate at varying levels of abstraction simultaneously.\n",
    "- Another common feature of all tasks is...\n",
    "\n",
    "## Environment\n",
    "\n",
    "Code: the code's on my github (footnote with link). Explain how to use it."
   ]
  },
  {
   "cell_type": "code",
   "execution_count": null,
   "id": "35010c53",
   "metadata": {},
   "outputs": [],
   "source": [
    "example using random action space samples"
   ]
  },
  {
   "cell_type": "markdown",
   "id": "1fd0062c",
   "metadata": {},
   "source": [
    "Animated GIF output\n",
    "\n",
    "And if I wanted to do action Y,"
   ]
  },
  {
   "cell_type": "code",
   "execution_count": null,
   "id": "6b5e6bdf",
   "metadata": {},
   "outputs": [],
   "source": [
    "example of performing a preprogrammed action sequence"
   ]
  },
  {
   "cell_type": "markdown",
   "id": "a6def94d",
   "metadata": {},
   "source": [
    "Animated GIF output\n",
    "\n",
    "Conclude this section and lead into the next two: data and evaluation.\n",
    "\n",
    "## Evaluation\n",
    "\n",
    "Briefly highlight shortcomings of naive approaches.\n",
    "\n",
    "- These are 'quick-trick', one-off, brittle hand-engineered approaches that work -- but fail to generalize.\n",
    "- The problem is that most tasks are too complex to parametrize and there isn't enough data.\n",
    "- These are naive by themselves, but not necessarily a bad idea.\n",
    "- like Imitation learning and Task classification\n",
    "\n",
    "### Language analysis\n",
    "\n",
    "**The main idea**: make a text summary of the state/trajectory. Compare that summary against an expected summary in semantic embedding space. Minimize the distance between the two.\n",
    "\n",
    "Explain how this is a more general, principled, and preferred way to evaluate the task.\n",
    "\n",
    "Static vision-language analysis\n",
    "\n",
    "Example with CLIP (or whatever vision-language model I plan on using)"
   ]
  },
  {
   "cell_type": "code",
   "execution_count": null,
   "id": "5feefc8f",
   "metadata": {},
   "outputs": [],
   "source": [
    "# Re-use a frame from the GIF input from previously"
   ]
  },
  {
   "cell_type": "markdown",
   "id": "3f0959a3",
   "metadata": {},
   "source": [
    "(show frame and text summary)\n",
    "\n",
    "Dynamic task estimation\n",
    "\n",
    "Example with another language model"
   ]
  },
  {
   "cell_type": "code",
   "execution_count": null,
   "id": "5ef6e7d8",
   "metadata": {},
   "outputs": [],
   "source": [
    "# Re-use the GIF input from previously"
   ]
  },
  {
   "cell_type": "markdown",
   "id": "d8b9b7db",
   "metadata": {},
   "source": [
    "(show animation and text summary)\n",
    "\n",
    "Explain how these approaches can be formed into a reward function.\n",
    "\n",
    "Algorithm.\n",
    "\n",
    "Code snippets of reward function from computatrum repo.\n",
    "\n",
    "Demonstrate how to use the reward function."
   ]
  },
  {
   "cell_type": "code",
   "execution_count": null,
   "id": "6dcbcca8",
   "metadata": {},
   "outputs": [],
   "source": [
    "# Re-use the GIF input from previously"
   ]
  },
  {
   "cell_type": "markdown",
   "id": "7a13e7a4",
   "metadata": {},
   "source": [
    "(show inputs and outputs)\n",
    "\n",
    "Convince the reader that this reward function is hard to game. Try to perform the task manually and see if it's possible to get a high reward without performing the objective."
   ]
  },
  {
   "cell_type": "code",
   "execution_count": null,
   "id": "f04342c8",
   "metadata": {},
   "outputs": [],
   "source": [
    "# show inputs (myself) and outputs (my score)"
   ]
  },
  {
   "cell_type": "markdown",
   "id": "e446e7ce",
   "metadata": {},
   "source": [
    "## Training\n",
    "\n",
    "I am going to collect demonstrations. Explain how. Show code/script:"
   ]
  },
  {
   "cell_type": "code",
   "execution_count": null,
   "id": "db521606",
   "metadata": {},
   "outputs": [],
   "source": [
    "# collect demonstrations"
   ]
  },
  {
   "cell_type": "markdown",
   "id": "71686f1c",
   "metadata": {},
   "source": [
    "Using this methodology, I have collected a dataset of diverse GUI interactions spanning ENUMERATE. Details on this dataset. I uploaded it to WHERE. It consist of the following demonstrations:"
   ]
  },
  {
   "cell_type": "code",
   "execution_count": null,
   "id": "a42c6f87",
   "metadata": {},
   "outputs": [],
   "source": [
    "# show how to download dataset\n",
    "# display dataset"
   ]
  },
  {
   "cell_type": "markdown",
   "id": "ee87ab41",
   "metadata": {},
   "source": [
    "(dataset dataframe)\n",
    "\n",
    "Data augmentations. Explain the concept and justify. I use these augmentations:\n",
    "\n",
    "- mouse/keyboard jerky/smooth/fast/slow in-between press/release\n",
    "- different display sizes, observation-action update rates\n",
    "- different window themes, accessibility features enabled/disabled, and other visual variations\n",
    "- Different language prompt variations\n",
    "- In some cases, resize the window\n",
    "\n",
    "These augmentations require the demonstrations to be performed in a deterministic environment, OTHER CONSTRAINTS, however using them, I am able to expand the dataset from X demonstrations to Y total demonstrations -- a ZZZ% increase.\n",
    "\n",
    "Show code/script:"
   ]
  },
  {
   "cell_type": "code",
   "execution_count": null,
   "id": "edfd6714",
   "metadata": {},
   "outputs": [],
   "source": [
    "# augment all data in original dataset\n",
    "# print demonstration count before and after\n",
    "# select a few demonstrations to display"
   ]
  },
  {
   "cell_type": "markdown",
   "id": "024bc73c",
   "metadata": {},
   "source": [
    "(outputs)\n",
    "\n",
    "Synthetic data. Explain the concept and justify. Details: precise locations of where to click can be identified by specific pixel colors. I synthesize the following data:\n",
    "\n",
    "- Automated form filling: the form is auto-generated and should be filled with specified data. Forms should include\n",
    "  - pages of just different buttons that can be identified by text, color, shape, or image.\n",
    "  - traditional forms (input fields and a submit)\n",
    "\n",
    "  Show example yaml description and image for each\n",
    "\n",
    "- Automated form filling with on-screen instructions: the form is auto-generated and should be filled with specified data. The instructions are displayed on-screen instead of through a separate modality.\n",
    "\n",
    "  Show example yaml description and image for each\n",
    "\n",
    "Curriculum learning. Methodology: go from easier to harder based on how the learner is progressing. Advantages and disadvantages. In this case, the advantages seem to outweigh the disadvantages. This is the curriculum:\n",
    "\n",
    "-\n",
    "\n",
    "## Policy Architecture\n",
    "\n",
    "Design philosophy and criterion for policy architecture(s).\n",
    "\n",
    "I'd be willing to bet that if neuroscientists analyzed me and my millennial-peer's brains, they find a structure in the homunculus or SMA just dedicated to the mouse. But the intelligence should extend far beyond pixel-level representations. (Picture of butterfly, dog, baby, man, and manager with different perspectives/abstractions on the man's actions.)\n",
    "\n",
    "Choices made.\n",
    "\n",
    "Picture of policy architecture(s).\n",
    "\n",
    "## Putting it all together\n",
    "\n",
    "Figure showing entire architecture.\n",
    "\n",
    "Explain overall architecture.\n",
    "\n",
    "Explain details.\n",
    "\n",
    "Provide some justification for design. Link to my separate posts on various design criteria.\n",
    "\n",
    "## Experiments\n",
    "\n",
    "Each experiment should include:\n",
    "\n",
    "- user demonstration\n",
    "- invocation code\n",
    "- quantitative analysis (metrics)\n",
    "- at least one raw animation\n",
    "- other qualitative analysis (visualizations)\n",
    "- critical summary\n",
    "\n",
    "## Discussion\n",
    "\n",
    "General discussion\n",
    "\n",
    "Experimental analyses\n",
    "\n",
    "### Broader impact\n",
    "\n",
    "Discuss how revolutionary this project has the potential of becoming.\n",
    "\n",
    "Highlight some negative uses of this technology.\n",
    "\n",
    "- Captchas. Demonstrate solving one programmatically.\n",
    "- Increased attack surface for social engineering\n",
    "- Weapon for hacking, social engineering, and disinformation.\n",
    "- Malicious content generation. Demonstrate\n",
    "\n",
    "### Safety\n",
    "\n",
    "General discussion on how larger systems will be supervised while given access to the Internet.\n",
    "\n",
    "The answers are not clear and we will need to proceed with caution. Justify why I am open-sourcing everything. Maybe cite my paper(s) from CSE-4314.\n",
    "\n",
    "### Future directions\n",
    "\n",
    "General expectations: More experiments, more complexity, more data.\n",
    "\n",
    "#### MAN\n",
    "\n",
    "Various ideas I want to experiment with\n",
    "\n",
    "Transfer learning\n",
    "\n",
    "#### The Artificial Experience\n",
    "\n",
    "#### Other artificial-ecosystem projects\n",
    "\n",
    "### Conclusion\n",
    "\n",
    "Clearly restate what was accomplished. How it was accomplished. What its impact is. Invite readers to start using the computatrum and contribute to its development.\n",
    "\n",
    "## Appendix\n",
    "\n",
    "Footnotes.\n",
    "\n",
    "Make sure citations are listed\n",
    "\n",
    "Make sure the discussion is enabled"
   ]
  }
 ],
 "metadata": {
  "jupytext": {
   "cell_metadata_filter": "-all",
   "formats": "ipynb,md",
   "main_language": "python"
  }
 },
 "nbformat": 4,
 "nbformat_minor": 5
}
